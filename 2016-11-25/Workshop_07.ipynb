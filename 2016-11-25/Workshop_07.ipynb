{
 "cells": [
  {
   "cell_type": "markdown",
   "metadata": {},
   "source": [
    "# Workshop 07\n",
    "\n",
    "This workshop takes in input two arrays of real value, one for each axe, and an array of boolean, modeled as bits 1 or 0. Each couple x,y is associated with one bool value; if 1 (*true*) it builds that cell, else it does nothing.\n",
    "\n",
    "The models examined are the ones from F110 to F 140\n",
    "\n",
    "<img src=\"windows.jpg\">"
   ]
  },
  {
   "cell_type": "markdown",
   "metadata": {},
   "source": [
    "# Windows\n",
    "\n",
    "Using the *ggpl_window* function the following models are created. \n",
    "\n",
    "<img src=\"metal_window.png\">\n",
    "\n",
    "<img src=\"metal_window3.png\">\n",
    "\n",
    "<img src=\"metal_window4.png\">\n",
    "\n"
   ]
  },
  {
   "cell_type": "markdown",
   "metadata": {
    "collapsed": true
   },
   "source": [
    "# Doors\n",
    "\n",
    "Then, in order to make the door, it is chosen the following model. \n",
    "\n",
    "<img src=\"https://s-media-cache-ak0.pinimg.com/originals/b1/b5/33/b1b53324b4b5c35bbf6b93d643a88ee9.jpg\">\n",
    "\n",
    "The function *ggpl_door* is the one that produces the following result. It takes in input the mesaures of all cells and the input for the inner function too. The inner function called *ggpl_aux* creates the structure and resizes it as needed.\n",
    "\n",
    "<img src=\"wood_door2.png\">"
   ]
  },
  {
   "cell_type": "markdown",
   "metadata": {},
   "source": [
    "# Code\n"
   ]
  },
  {
   "cell_type": "code",
   "execution_count": null,
   "metadata": {
    "collapsed": true
   },
   "outputs": [],
   "source": []
  }
 ],
 "metadata": {
  "kernelspec": {
   "display_name": "Python 2",
   "language": "python",
   "name": "python2"
  },
  "language_info": {
   "codemirror_mode": {
    "name": "ipython",
    "version": 2
   },
   "file_extension": ".py",
   "mimetype": "text/x-python",
   "name": "python",
   "nbconvert_exporter": "python",
   "pygments_lexer": "ipython2",
   "version": "2.7.12"
  }
 },
 "nbformat": 4,
 "nbformat_minor": 1
}
