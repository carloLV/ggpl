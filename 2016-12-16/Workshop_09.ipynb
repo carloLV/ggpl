{
 "cells": [
  {
   "cell_type": "markdown",
   "metadata": {
    "collapsed": true
   },
   "source": [
    "# Roof Modeling\n",
    "\n",
    "The purpose of this workshop is to create a functions that, using a .lines model that describes a specific shape, is able to build the corresponding roof model, not depending from the specific shape.\n",
    "\n",
    "To reach that scope, several helper functions are used. It follows a brief summary of most important functions used.\n",
    "\n",
    " -  *calculate_height*: it calculates the best value for roof's height.\n",
    " -  *clockwise_order*: this function is needed to well orient faces of roofs that have been created. It chosen     arbitrary an order of visit and that is respected for all models\n",
    " - *calculate_centroid*: One of needs for modeling this types of roof, is that the top and the inferior plane must be centered in the same position, to mantain an appropriate proportionality and to build all alteral planes adequately oriented.\n",
    " - *ggpl_build_roof*: this function performs all work, using the helper functions created. It just assembles in the rigth manner all parts and models the final Hpc value.\n",
    " \n",
    " Image of roof"
   ]
  },
  {
   "cell_type": "code",
   "execution_count": null,
   "metadata": {
    "collapsed": true
   },
   "outputs": [],
   "source": []
  }
 ],
 "metadata": {
  "kernelspec": {
   "display_name": "Python 2",
   "language": "python",
   "name": "python2"
  },
  "language_info": {
   "codemirror_mode": {
    "name": "ipython",
    "version": 2
   },
   "file_extension": ".py",
   "mimetype": "text/x-python",
   "name": "python",
   "nbconvert_exporter": "python",
   "pygments_lexer": "ipython2",
   "version": "2.7.12"
  }
 },
 "nbformat": 4,
 "nbformat_minor": 1
}
