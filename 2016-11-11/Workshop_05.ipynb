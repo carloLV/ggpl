{
 "cells": [
  {
   "cell_type": "markdown",
   "metadata": {},
   "source": [
    "# School furniture\n",
    "\n",
    "In this code several functions are provided; each function creates a piece of school furniture. Then, in the *ggpl_create_furniture* function, all pieces are merged. The final result is a model of a school room. \n",
    "The parameter for this function are the room dimension. To make the dimensions clear, room's skeleton is provided.\n",
    "\n",
    "<img src=\"img_tot.png\">"
   ]
  },
  {
   "cell_type": "markdown",
   "metadata": {},
   "source": [
    "## Piece 1: Chair\n",
    "\n",
    "The function used for this element is *create_chair*. It creates a chair, as shown in the picture.\n",
    "\n",
    "<img src=\"chair.png\">"
   ]
  },
  {
   "cell_type": "markdown",
   "metadata": {},
   "source": [
    "## Piece 2: Desk\n",
    "\n",
    "The function used for this element is *create_desks*. It creates a desk; then uses the above function to create a chair for this desk. In the following pictures the 2 part of computation ar shown\n",
    "\n",
    "\n",
    "\n",
    "<img src=\"desk.png\">\n",
    "\n",
    "<img src=\"desk_chair.png\">"
   ]
  },
  {
   "cell_type": "markdown",
   "metadata": {},
   "source": [
    "## Piece 3: Blackboard\n",
    "\n",
    "The funtion used is *create_blackboard*. It creates the blackboard for the class, as shown in the picture.\n",
    "\n",
    "<img src=\"blackboard.png\">"
   ]
  },
  {
   "cell_type": "markdown",
   "metadata": {},
   "source": [
    "## Piece 4: Teaching Desk\n",
    "\n",
    "The function used is *create_teaching_desk*. Creates a desk having some covering panels on three edges. The same as desks, a chair is provided. In this case, chair is obtained scaling the one used for desks.\n",
    "\n",
    "<img src=\"teaching_desk.png\">"
   ]
  },
  {
   "cell_type": "code",
   "execution_count": null,
   "metadata": {
    "collapsed": true
   },
   "outputs": [],
   "source": []
  }
 ],
 "metadata": {
  "kernelspec": {
   "display_name": "Python 2",
   "language": "python",
   "name": "python2"
  },
  "language_info": {
   "codemirror_mode": {
    "name": "ipython",
    "version": 2
   },
   "file_extension": ".py",
   "mimetype": "text/x-python",
   "name": "python",
   "nbconvert_exporter": "python",
   "pygments_lexer": "ipython2",
   "version": "2.7.12"
  }
 },
 "nbformat": 4,
 "nbformat_minor": 1
}
