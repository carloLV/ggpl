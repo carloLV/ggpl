{
 "cells": [
  {
   "cell_type": "markdown",
   "metadata": {},
   "source": [
    "# Hip shape roof"
   ]
  },
  {
   "cell_type": "markdown",
   "metadata": {},
   "source": [
    "## Description\n",
    "\n",
    "The function **ggpl_hip_roof** builds a roof using vertex and cell from *MKPOL*.\n",
    "\n",
    "*input ->* HPC value (the poligonal shape of the roof)\n",
    "\n",
    "*output ->* HPC value (the roof builded)"
   ]
  },
  {
   "cell_type": "markdown",
   "metadata": {},
   "source": [
    "<img src=\"http://www.centralohiohomeinspector.com/Slide51.JPG\">"
   ]
  },
  {
   "cell_type": "markdown",
   "metadata": {},
   "source": [
    "## Variables\n",
    "\n",
    "To complete the task, we used lots of data-structures in this workshop. We used some dictionaries and lists. In the following lines the main variables are described. \n",
    "Remember that vertex are list of three real values and cells are lists of all vertex used for each cell.\n",
    "\n",
    "**(verts, cells, pols) -> **This tuple is the value obtained by the function *UKPOL*\n",
    "\n",
    "**vertexDict, vertexList -> ** The first takes trace of all the vertex present in the input pol. We use the dict to merge the same vertex in one key, and use the corresponding vertex index as values. *vertexList* is simply used to iterate on merged vertex (because keys are string type).\n",
    "\n",
    "**skel1, coveringPol -> ** These variables are used to trace the roof's bone structure and tu put the planes above it.\n",
    "\n"
   ]
  },
  {
   "cell_type": "markdown",
   "metadata": {},
   "source": [
    "## Breaking down the code\n",
    "\n",
    "Firstly the helper functions are explained, then all the code is listed and the *ggpl_hip_roof* reported.\n",
    "\n",
    "#### The result of all computation"
   ]
  },
  {
   "cell_type": "markdown",
   "metadata": {},
   "source": [
    "<img src=\"img1.png\">"
   ]
  },
  {
   "cell_type": "markdown",
   "metadata": {},
   "source": [
    "### 1- Unmake the pol and create needed data structures\n",
    "\n",
    "As said before, we use te *UKPOL* function to get the parameters. But this functions produces lots of vertices'duplicates and the decimal value are not rounded appropriately. To face this issue, two functions are used:\n",
    "\n",
    "*round_vertex ->* Simply rounds numbers till the 3<sup>rd</sup> decimal value\n",
    "\n",
    "\tfor v in verts:\n",
    "\t\tv[0]=math.fabs(round( v[0] , 3  ))\n",
    "\t\tv[1]=math.fabs(round( v[1] , 3  ))\n",
    "\t\tv[2]=math.fabs(round( v[2] , 3  ))\n",
    "        \n",
    "*create_dict ->* Creates the dictionary containing vertices as keys (in string type) and the list of their index in cells as values. It creates a list of all vertex too.\n",
    "    \n",
    "    i=1\n",
    "\tfor v in verts:\n",
    "\t\t#creates string type keys\n",
    "\t\tkey=\",\".join(str(x) for x in v)\n",
    "\t\tif not key in dct.keys():\n",
    "\t\t\tdct[key]=[i]\n",
    "\t\telse: \n",
    "\t\t\tdct.get(key).append(i)\n",
    "\t\ti+=1\n",
    "\n",
    "\tfor key in dct.keys():\n",
    "\t\tvertexList.append(literal_eval(key))\n"
   ]
  },
  {
   "cell_type": "markdown",
   "metadata": {},
   "source": [
    "### 2- Replace cells vertices\n",
    "\n",
    "Using the dictionary given by the above function *create_dict*, the function *replace_cells* looks in all the cell given by *UKPOL* and replaces the duplicates vertices'index with the index of the merged one (the dictionary's key)\n",
    "\n",
    "    \n",
    "\t#iterates on each cell.\n",
    "\tfor cell in cells:\n",
    "\t\t#iterates on tuple in the cell\n",
    "\t\tfor elT in cell:\n",
    "\t\t\t#iterates on dictionary\n",
    "\t\t\tfor key, vals in dct.items():\n",
    "\t\t\t\t#checks if the tuple elemente is in the list of values and if True replaces the value with the key\n",
    "\t\t\t\tif elT in vals:\n",
    "\t\t\t\t\tindex=cell.index(elT)\n",
    "\t\t\t\t\tcell[index]=int(key)"
   ]
  },
  {
   "cell_type": "markdown",
   "metadata": {},
   "source": [
    "#### This picture shows the polygon created using the computation of the above functions\n",
    "\n",
    "<img src=\"img2.png\">"
   ]
  },
  {
   "cell_type": "markdown",
   "metadata": {},
   "source": [
    "### 3- Creating the planes needed for the roof\n",
    "\n",
    "Once all the cells are replaced with the right vertices, the builder functions needs to build the appropriates planes for the roof. For sake reason's, in *put_planes*, it is decided to create only the planes which has at least one vertex with z value major than 0. \n",
    "\n",
    "    buildingCells=[]\n",
    "\tfor v in vertexList:\n",
    "\t\tif v[2]> 0.0:\n",
    "\t\t\ti=vertexList.index(v)\n",
    "\t\t\tind.append(i+1)\n",
    "\t\n",
    "\tfor index in ind:\n",
    "\t\tfor cell in cells:\n",
    "\t\t\tif index in cell and not cell in buildingCells:\n",
    "\t\t\t\tbuildingCells.append(cell)\n",
    "\t\n",
    "\treturn buildingCells"
   ]
  },
  {
   "cell_type": "markdown",
   "metadata": {},
   "source": [
    "#### In this picture we can see that the inferior part of the roof isn't built, in according to the *put_planes* function\n",
    "\n",
    "<img src=\"img4.png\">"
   ]
  },
  {
   "cell_type": "code",
   "execution_count": null,
   "metadata": {
    "collapsed": true
   },
   "outputs": [],
   "source": []
  }
 ],
 "metadata": {
  "kernelspec": {
   "display_name": "Python 2",
   "language": "python",
   "name": "python2"
  },
  "language_info": {
   "codemirror_mode": {
    "name": "ipython",
    "version": 2
   },
   "file_extension": ".py",
   "mimetype": "text/x-python",
   "name": "python",
   "nbconvert_exporter": "python",
   "pygments_lexer": "ipython2",
   "version": "2.7.12"
  }
 },
 "nbformat": 4,
 "nbformat_minor": 1
}
