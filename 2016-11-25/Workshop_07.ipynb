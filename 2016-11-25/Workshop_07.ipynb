{
 "cells": [
  {
   "cell_type": "markdown",
   "metadata": {},
   "source": [
    "# Workshop 07\n",
    "\n",
    "This workshop takes in input two arrays of real value, one for each axe, and an array of boolean, modeled as bits 1 or 0. Each couple x,y is associated with one bool value; if 1 (*true*) it builds that cell, else it does nothing.\n",
    "\n",
    "The models examined are the ones from F110 to F 140\n",
    "\n",
    "<img src=\"windows.jpg\">"
   ]
  },
  {
   "cell_type": "code",
   "execution_count": null,
   "metadata": {
    "collapsed": true
   },
   "outputs": [],
   "source": []
  }
 ],
 "metadata": {
  "kernelspec": {
   "display_name": "Python 2",
   "language": "python",
   "name": "python2"
  },
  "language_info": {
   "codemirror_mode": {
    "name": "ipython",
    "version": 2
   },
   "file_extension": ".py",
   "mimetype": "text/x-python",
   "name": "python",
   "nbconvert_exporter": "python",
   "pygments_lexer": "ipython2",
   "version": "2.7.12"
  }
 },
 "nbformat": 4,
 "nbformat_minor": 1
}
