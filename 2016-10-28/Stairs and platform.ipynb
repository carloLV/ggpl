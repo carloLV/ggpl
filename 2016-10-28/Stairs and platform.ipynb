{
 "cells": [
  {
   "cell_type": "markdown",
   "metadata": {},
   "source": [
    "# Description\n",
    "This program creates a stairs whit a platform, as shown in the picture."
   ]
  },
  {
   "cell_type": "markdown",
   "metadata": {},
   "source": [
    "<img src=\"http://tf3dm.com/imgd/l45775-stairs-60802.jpg\">"
   ]
  },
  {
   "cell_type": "markdown",
   "metadata": {},
   "source": [
    "## Variables\n",
    "\n",
    "The stairs is created giving parameters of the \"box\" in wich it is contained.\n",
    "To calculate the dimensions for each step, the box is divided in units on the three axes; each unit is the dimension for the steps. \n",
    "\n",
    "- stepX=dx/2\n",
    "- stepY=dy/8 \n",
    "- stepZ=dz/11\n",
    "\n"
   ]
  },
  {
   "cell_type": "markdown",
   "metadata": {},
   "source": [
    "### First part\n",
    "In this part the first half of stairs is calculated, using a simple while cycle. Then the structure built by this piece of code will be copyed to make the second part, after the necessaries transformation are applied.\n",
    "\n",
    "    while countH<(stepZ*4):\n",
    "\t\tadd_step=T(2)(countD)(step)\n",
    "\t\tcountD+=stepY\n",
    "\t\tst=STRUCT([st,T(3)(countH),add_step])\n",
    "\t\tcountH+=stepZ\n",
    "\n",
    "\tsecondHalf=st\t\n",
    "\n"
   ]
  },
  {
   "cell_type": "markdown",
   "metadata": {},
   "source": [
    "<img src=\"img1.png\">"
   ]
  },
  {
   "cell_type": "markdown",
   "metadata": {},
   "source": [
    "### Second part\n",
    "In this little piece of code we create the platform. It is created long as four steps and large as the given box 'dx' dimension, to fill the ideal \"box\"\n",
    "\n",
    "    platform=CUBOID([dx,4*stepY,stepZ])\n",
    "\tplatform=T(2)(countD)(platform)\n",
    "    \n",
    "\tst=STRUCT([st,T(3)(countH),platform])"
   ]
  },
  {
   "cell_type": "markdown",
   "metadata": {},
   "source": [
    "<img src=\"img2.png\">"
   ]
  },
  {
   "cell_type": "markdown",
   "metadata": {},
   "source": [
    "### Third part\n",
    "This part focuses on applying the correct transformations to the second half of stairs, and building the final structure.\n",
    "With this code, firstly the second half of stairs is rotated, then, using translation, is situated in the place it belongs.\n",
    "\n",
    "    secondHalf=R([1,2])(PI)(secondHalf)\n",
    "\t\t\n",
    "\tsecondHalf=T(1)(stepX*2)(secondHalf)\n",
    "\tsecondHalf=T(2)(4*stepY)(secondHalf)\t\t\n",
    "\tsecondHalf=T(3)(countH)(secondHalf)"
   ]
  },
  {
   "cell_type": "markdown",
   "metadata": {
    "collapsed": true
   },
   "source": [
    "<img src=\"img3.png\">"
   ]
  },
  {
   "cell_type": "markdown",
   "metadata": {},
   "source": [
    "### Fourth part\n",
    "This is the last part of this program. In this little piece of code the structure is created, combining the second half of the stairs (picture above) and the first one.\n",
    "\n",
    "    stairs=STRUCT([st,secondHalf])\n",
    "    \n",
    "In the picture below it is shown the final result for this workshop. Then all the code used is reported and decently commented."
   ]
  },
  {
   "cell_type": "markdown",
   "metadata": {},
   "source": [
    "<img src=\"img4.png\">"
   ]
  },
  {
   "cell_type": "markdown",
   "metadata": {},
   "source": [
    "# Code"
   ]
  },
  {
   "cell_type": "code",
   "execution_count": 5,
   "metadata": {
    "collapsed": false
   },
   "outputs": [],
   "source": [
    "from larlib import *\n",
    "\n",
    "def ggpl_stairs_and_platform(dx,dy,dz):\n",
    "\t\n",
    "\t#get steps dimensions\n",
    "\tstepX=dx/2\n",
    "\tstepY=dy/8 #suppose the platform big long as four steps\n",
    "\tstepZ=dz/11\n",
    "\n",
    "\t#counter for height and distance\n",
    "\tcountH=stepZ\n",
    "\tcountD=stepY\n",
    "\t#building single step\n",
    "\tstep=CUBOID([stepX,stepY,stepZ])\n",
    "\n",
    "\tst=step\n",
    "\t#cycle for creating first group of stairs\n",
    "\twhile countH<(stepZ*4):\n",
    "\t\tadd_step=T(2)(countD)(step)\n",
    "\t\tcountD+=stepY\n",
    "\t\tst=STRUCT([st,T(3)(countH),add_step])\n",
    "\t\tcountH+=stepZ\n",
    "\n",
    "\tsecondHalf=st\t\n",
    "\t\n",
    "\t# VIEW(st)\n",
    "\n",
    "\t# creating the platform and using T transform\n",
    "\tplatform=CUBOID([dx,4*stepY,stepZ])\n",
    "\tplatform=T(2)(countD)(platform)\n",
    "\t\n",
    "\t#adding platform to struct\n",
    "\tst=STRUCT([st,T(3)(countH),platform])\n",
    "\n",
    "\t#VIEW(st)\n",
    "\t\n",
    "\tcountH+=stepZ\n",
    "\n",
    "\t# applying transforms to the second half of stairs\t\n",
    "\tsecondHalf=R([1,2])(PI)(secondHalf)\n",
    "\t\t\n",
    "\tsecondHalf=T(1)(stepX*2)(secondHalf)\n",
    "\tsecondHalf=T(2)(4*stepY)(secondHalf)\t\t\n",
    "\tsecondHalf=T(3)(countH)(secondHalf)\n",
    "\t\n",
    "\t#VIEW(secondHalf)\n",
    "\n",
    "\tstairs=STRUCT([st,secondHalf])\t\n",
    "\tVIEW(stairs)\n",
    "\n",
    "if __name__=='__main__':\n",
    "    #insert any FLOAT value you want\n",
    "\tggpl_stairs_and_platform(0.8,0.7,0.22)\n",
    "\n",
    "\n",
    "\t"
   ]
  },
  {
   "cell_type": "code",
   "execution_count": null,
   "metadata": {
    "collapsed": true
   },
   "outputs": [],
   "source": []
  }
 ],
 "metadata": {
  "kernelspec": {
   "display_name": "Python 2",
   "language": "python",
   "name": "python2"
  },
  "language_info": {
   "codemirror_mode": {
    "name": "ipython",
    "version": 2
   },
   "file_extension": ".py",
   "mimetype": "text/x-python",
   "name": "python",
   "nbconvert_exporter": "python",
   "pygments_lexer": "ipython2",
   "version": "2.7.12"
  }
 },
 "nbformat": 4,
 "nbformat_minor": 1
}
