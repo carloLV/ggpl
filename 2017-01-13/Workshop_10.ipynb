{
 "cells": [
  {
   "cell_type": "markdown",
   "metadata": {},
   "source": [
    "# Assembling of a multistorey house\n",
    "\n",
    "In this workshop some of previous developed functions are used (some of them modified), to build a complex structure representing a moder house. The model chosen follows in the next picture.\n",
    "\n",
    "<img src='map.jpg'>"
   ]
  },
  {
   "cell_type": "markdown",
   "metadata": {
    "collapsed": true
   },
   "source": [
    "# 1st part\n",
    "\n",
    "In the first part it is reused the **workshop_08**. In that workshop I built a house and, using appropriate functions, I left some holes in the walls, simulating windows and doors. \n",
    "For this workshop the functions have been changed, in order to fully satisfy the necessity of this workshop. Here it is listed part of the used functions, left here for example.\n",
    "\n",
    "\n",
    "\twith open(\"lines_file/\" + 'porte' + \".lines\", \"rb\") as csvFile:\n",
    "\t\treader = csv.reader(csvFile, delimiter=\",\")\n",
    "\t\tholes = []\n",
    "\t\tbasePol = []\n",
    "\t\tcont = 0\n",
    "\t\tyDim=0\n",
    "\t\txDim=0\n",
    "\t\tcreatedDoors = []\n",
    "\t\tfor line in reader:\n",
    "\t\t\tcont +=1\n",
    "\t\t\tbasePol.append([float(line[0])*xFactor,float(line[1])*yFactor])\n",
    "\t\t\tif cont < 3: \n",
    "\t\t\t\tif round(float(line[0]), 1) == round(float(line[2]), 1):\n",
    "\t\t\t\t\tyDim = abs(float(line[3]) - float(line[1]))\n",
    "\t\t\t\t \t\t\n",
    "\t\t\t\telif round(float(line[1]), 1) == round(float(line[3]), 1):\n",
    "                    \t\t\txDim = abs(float(line[2]) - float(line[0]))\n",
    "\t\t\t\t\t\t\t\t\t\n",
    "\t\t\t#create a cube with 4 vertices and restart finding\n",
    "\t\t\tif(cont == 4):\n",
    "\t\t\t\tholes.append(MKPOL([basePol,[[1,2,3,4]],None]))\n",
    "\t\t\t\tbasePol = []\n",
    "\t\t\t\tdoor = CUBOID([0,0,0])\n",
    "\t\t\t\tcont = 0\n",
    "\t\t\t\tif (xDim < yDim):\n",
    "\t\t\t\t\tdoor = w7.ggpl_door(xDo,yDo,bDo)(yDim*yFactor,.2,3)\n",
    "\t\t\t\t\tdoor = T([1,2])([-0.1,0.4])(door)\n",
    "\t\t\t\t\tdoor = R([1,2])(-PI/2)(door)\n",
    "\t\t\t\telse:\n",
    "\t\t\t\t\tdoor = w7.ggpl_door(xDo,yDo,bDo)(xDim*xFactor,.2,3)\n",
    "\t\t\t\t\tdoor = T([1,2])([0,0.1])(door)\n",
    "\t\t\t\t\n",
    "  \n",
    "Combining these kind of functions, and making adequate scaling and traslation, produces the following result:\n",
    "\n"
   ]
  },
  {
   "cell_type": "code",
   "execution_count": null,
   "metadata": {
    "collapsed": true
   },
   "outputs": [],
   "source": []
  }
 ],
 "metadata": {
  "kernelspec": {
   "display_name": "Python 2",
   "language": "python",
   "name": "python2"
  },
  "language_info": {
   "codemirror_mode": {
    "name": "ipython",
    "version": 2
   },
   "file_extension": ".py",
   "mimetype": "text/x-python",
   "name": "python",
   "nbconvert_exporter": "python",
   "pygments_lexer": "ipython2",
   "version": "2.7.12"
  }
 },
 "nbformat": 4,
 "nbformat_minor": 1
}
