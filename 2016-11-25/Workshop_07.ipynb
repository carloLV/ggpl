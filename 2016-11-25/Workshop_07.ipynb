{
 "cells": [
  {
   "cell_type": "markdown",
   "metadata": {},
   "source": [
    "# Workshop 07\n",
    "\n",
    "This workshop takes in input two arrays of real value, one for each axe, and an array of boolean, modeled as bits 1 or 0. Each couple x,y is associated with one bool value; if 1 (*true*) it builds that cell, else it does nothing.\n",
    "\n",
    "The models examined are the ones from F110 to F 140\n",
    "\n",
    "<img src=\"windows.jpg\">"
   ]
  },
  {
   "cell_type": "markdown",
   "metadata": {},
   "source": [
    "# Windows\n",
    "\n",
    "Using the *ggpl_window* function the following models are created. \n",
    "\n",
    "<img src=\"metal_window.png\">\n",
    "\n",
    "<img src=\"metal_window3.png\">\n",
    "\n",
    "<img src=\"metal_window4.png\">\n",
    "\n"
   ]
  },
  {
   "cell_type": "markdown",
   "metadata": {
    "collapsed": true
   },
   "source": [
    "# Doors\n",
    "\n",
    "Then, in order to make the door, it is chosen the following model. \n",
    "\n",
    "<img src=\"https://s-media-cache-ak0.pinimg.com/originals/b1/b5/33/b1b53324b4b5c35bbf6b93d643a88ee9.jpg\">\n",
    "\n",
    "The function *ggpl_door* is the one that produces the following result. It takes in input the mesaures of all cells and the input for the inner function too. The inner function called *ggpl_aux* creates the structure and resizes it as needed.\n",
    "\n",
    "<img src=\"wood_doorx.png\">"
   ]
  },
  {
   "cell_type": "markdown",
   "metadata": {},
   "source": [
    "# Code\n"
   ]
  },
  {
   "cell_type": "code",
   "execution_count": 1,
   "metadata": {
    "collapsed": false
   },
   "outputs": [
    {
     "name": "stdout",
     "output_type": "stream",
     "text": [
      "Evaluating fenvs.py..\n",
      "...fenvs.py imported in 0.005743 seconds\n"
     ]
    }
   ],
   "source": [
    "from pyplasm import *\n",
    "\n",
    "\"\"\"This function resizes the model in base of the given input.\"\"\"\n",
    "def resize(x,y,dx,dy):\n",
    "\tsumX=sum(x)\n",
    "\tsumY=sum(y)\n",
    "\t\n",
    "\tfor i in range(len(x)-2):\n",
    "\t\tx[i+1]=x[i+1]/(sumX/dx)\n",
    "\tfor j in range(len(y)-2):\n",
    "\t\ty[j+1]=y[j+1]/(sumY/dy)\n",
    "\t\n",
    "\"\"\"This function creates the window. It takes in input the mesaures for the x and y axes'arrays\"\"\"\n",
    "def ggpl_window(x,y,b):\n",
    "\t\n",
    "\n",
    "\tdef ggpl_aux(dx,dy,dz):\n",
    "\t\ts=STRUCT([CUBOID([0,0,0])])\n",
    "\t\tresize(x,y,dx,dy)\n",
    "\n",
    "\t\tfor i in range(len(x)):\n",
    "\t\t\t#counter for translation\n",
    "\t\t\tsumX=sum(x[:i])\n",
    "\t\t\n",
    "\t\t\tfor j in range(len(y)):\n",
    "\t\t\t\tsumY=sum(y[:j])\n",
    "\t\t\t\tif b[j][i]==1:\n",
    "\t\t\t\t\tcube=CUBOID([x[i],y[j],dz])\n",
    "\t\t\t\t\ts=STRUCT([s,T([1,2])([sumX,sumY])(cube)])\n",
    "\t\ts = COLOR(Color4f([93/255., 94/255., 107/255., 1]))(s)\n",
    "\t\tVIEW(s)\n",
    "\treturn ggpl_aux\n",
    "\n",
    "\"\"\"This function creates the door. It takes in input the mesaures for the x and y axes'arrays. It puts and handle on the structure too\"\"\"\n",
    "def ggpl_door(x,y,b):\n",
    "\t\n",
    "\tdef ggpl_aux(dx,dy,dz):\n",
    "\t\ts=STRUCT([CUBOID([0,0,0])])\n",
    "\t\tresize(x,y,dx,dy)\n",
    "\t\tfor i in range(len(x)):\n",
    "\t\t\t#counter for translation\n",
    "\t\t\tsumX=sum(x[:i])\n",
    "\t\t\n",
    "\t\t\tfor j in range(len(y)):\n",
    "\t\t\t\tsumY=sum(y[:j])\n",
    "\t\t\t\tif b[j][i]==1:\n",
    "\t\t\t\t\tcube=CUBOID([x[i],y[j],dz])\n",
    "\t\t\t\t\ts=STRUCT([s,T([1,2])([sumX,sumY])(cube)])\n",
    "\t\ts = COLOR(Color4f([102/255.0,51/255.0,0/255.0,1]))(s)\t\n",
    "\t\thx=sum(x)/10\n",
    "\t\thy=sum(y)/42\n",
    "\t\tdimX=sum(x[2:])+x[0]*3/2\n",
    "\t\thandle = CUBOID([hx,hy,dz+dz/2])\n",
    "\t\thandle=T([1,2])([dimX,sum(y)/2])(handle)\n",
    "\t\t\n",
    "\t\ts=STRUCT([s,handle])\n",
    "\t\tVIEW(s)\n",
    "\treturn ggpl_aux\n",
    "\t\n",
    "\t\t\t\n",
    "\t\t\n",
    "\n",
    "\n",
    "if __name__=='__main__':\n",
    "\tx=[.05,.7,.05,.7,.05]\n",
    "\ty=[.05,.7,.05,.7,.05]\n",
    "\tb=[[1,1,1,1,1],[1,0,1,0,1],[1,1,1,1,1],[1,0,1,0,1],[1,1,1,1,1]]\n",
    "\tx1=[.05,1,.05,1,.05,1,.05]\n",
    "\ty1=[.05,.7,.1,.7,.05]\n",
    "\tb1=[[1,1,1,1,1,1,1],[1,0,1,0,1,0,1],[1,1,1,1,1,1,1],[1,0,1,0,1,0,1],[1,1,1,1,1,1,1]]\n",
    "\tx2=[.06,.07,.12,.09,.06]\n",
    "\ty2=[.15,.15,.15,.15,.15,.15,.15]\n",
    "\tb2=[[1,1,1,1,1],[1,1,0,0,1],[1,1,1,1,1],[1,0,0,1,1],[1,1,1,1,1],[1,1,0,0,1],[1,1,1,1,1]]\n",
    "\tggpl_window(x,y,b)(.8,.8,.1)\n",
    "\tggpl_window(x1,y1,b1)(1.8,2,.1)\n",
    "\tggpl_window(x1,y1,b1)(1.8,4,.3)\n",
    "\tggpl_door(x2,y2,b2)(1.8,2,.1)\n",
    "\t\n"
   ]
  },
  {
   "cell_type": "code",
   "execution_count": null,
   "metadata": {
    "collapsed": true
   },
   "outputs": [],
   "source": []
  }
 ],
 "metadata": {
  "kernelspec": {
   "display_name": "Python 2",
   "language": "python",
   "name": "python2"
  },
  "language_info": {
   "codemirror_mode": {
    "name": "ipython",
    "version": 2
   },
   "file_extension": ".py",
   "mimetype": "text/x-python",
   "name": "python",
   "nbconvert_exporter": "python",
   "pygments_lexer": "ipython2",
   "version": "2.7.12"
  }
 },
 "nbformat": 4,
 "nbformat_minor": 1
}
