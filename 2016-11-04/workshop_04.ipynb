{
 "cells": [
  {
   "cell_type": "markdown",
   "metadata": {},
   "source": [
    "# Shape roof workshop"
   ]
  },
  {
   "cell_type": "markdown",
   "metadata": {},
   "source": [
    "## Description\n",
    "\n",
    "The function **ggpl_build_roof** builds a roof using vertex and cell from *MKPOL*.\n",
    "\n",
    "*input ->* HPC value (the poligonal shape of the roof)\n",
    "\n",
    "*output ->* HPC value (the roof builded)"
   ]
  },
  {
   "cell_type": "markdown",
   "metadata": {},
   "source": [
    "<img src=\"http://www.centralohiohomeinspector.com/Slide51.JPG\">"
   ]
  },
  {
   "cell_type": "markdown",
   "metadata": {},
   "source": [
    "## Variables\n",
    "\n",
    "To complete the task, we used lots of data-structures in this workshop. We used some dictionaries and lists. In the following lines the main variables are described. \n",
    "Remember that vertex are list of three real values and cells are lists of all vertex used for each cell.\n",
    "\n",
    "**(verts, cells, pols) -> **This tuple is the value obtained by the function *UKPOL*\n",
    "\n",
    "**vertexDict, vertexList -> ** The first takes trace of all the vertex present in the input pol. We use the dict to merge the same vertex in one key, and use the corresponding vertex index as values. *vertexList* is simply used to iterate on merged vertex (because keys are string type).\n",
    "\n",
    "**skel1, coveringPol -> ** These variables are used to trace the roof's bone structure and tu put the planes above it.\n",
    "\n"
   ]
  },
  {
   "cell_type": "markdown",
   "metadata": {},
   "source": [
    "## Breaking down the code\n",
    "\n",
    "Firstly the helper functions are explained, then all the code is listed and the *ggpl_build_roof* reported.\n",
    "\n",
    "#### The result of all computation"
   ]
  },
  {
   "cell_type": "markdown",
   "metadata": {},
   "source": [
    "<img src=\"img1.png\">"
   ]
  },
  {
   "cell_type": "markdown",
   "metadata": {},
   "source": [
    "### 1- Unmake the pol and create needed data structures\n",
    "\n",
    "As said before, we use te *UKPOL* function to get the parameters. But this functions produces lots of vertices'duplicates and the decimal value are not rounded appropriately. To face this issue, two functions are used:\n",
    "\n",
    "*round_vertex ->* Simply rounds numbers till the 3<sup>rd</sup> decimal value\n",
    "\n",
    "\tfor v in verts:\n",
    "\t\tv[0]=math.fabs(round( v[0] , 3  ))\n",
    "\t\tv[1]=math.fabs(round( v[1] , 3  ))\n",
    "\t\tv[2]=math.fabs(round( v[2] , 3  ))\n",
    "        \n",
    "*create_dict ->* Creates the dictionary containing vertices as keys (in string type) and the list of their index in cells as values. It creates a list of all vertex too.\n",
    "    \n",
    "    i=1\n",
    "\tfor v in verts:\n",
    "\t\t#creates string type keys\n",
    "\t\tkey=\",\".join(str(x) for x in v)\n",
    "\t\tif not key in dct.keys():\n",
    "\t\t\tdct[key]=[i]\n",
    "\t\telse: \n",
    "\t\t\tdct.get(key).append(i)\n",
    "\t\ti+=1\n",
    "\n",
    "\tfor key in dct.keys():\n",
    "\t\tvertexList.append(literal_eval(key))\n"
   ]
  },
  {
   "cell_type": "markdown",
   "metadata": {},
   "source": [
    "### 2- Replace cells vertices\n",
    "\n",
    "Using the dictionary given by the above function *create_dict*, the function *replace_cells* looks in all the cell given by *UKPOL* and replaces the duplicates vertices'index with the index of the merged one (the dictionary's key)\n",
    "\n",
    "    \n",
    "\t#iterates on each cell.\n",
    "\tfor cell in cells:\n",
    "\t\t#iterates on tuple in the cell\n",
    "\t\tfor elT in cell:\n",
    "\t\t\t#iterates on dictionary\n",
    "\t\t\tfor key, vals in dct.items():\n",
    "\t\t\t\t#checks if the tuple elemente is in the list of values and if True replaces the value with the key\n",
    "\t\t\t\tif elT in vals:\n",
    "\t\t\t\t\tindex=cell.index(elT)\n",
    "\t\t\t\t\tcell[index]=int(key)"
   ]
  },
  {
   "cell_type": "markdown",
   "metadata": {},
   "source": [
    "#### This picture shows the polygon created using the computation of the above functions\n",
    "\n",
    "<img src=\"img2.png\">"
   ]
  },
  {
   "cell_type": "markdown",
   "metadata": {},
   "source": [
    "### 3- Creating the planes needed for the roof\n",
    "\n",
    "Once all the cells are replaced with the right vertices, the builder functions needs to build the appropriates planes for the roof. For sake reason's, in *put_planes*, it is decided to create only the planes which has at least one vertex with z value major than 0. \n",
    "\n",
    "    buildingCells=[]\n",
    "\tfor v in vertexList:\n",
    "\t\tif v[2]> 0.0:\n",
    "\t\t\ti=vertexList.index(v)\n",
    "\t\t\tind.append(i+1)\n",
    "\t\n",
    "\tfor index in ind:\n",
    "\t\tfor cell in cells:\n",
    "\t\t\tif index in cell and not check_y_value(cell,vertexList) and not cell in buildingCells:\n",
    "\t\t\t\tbuildingCells.append(cell)\n",
    "                \n",
    "\treturn buildingCells"
   ]
  },
  {
   "cell_type": "markdown",
   "metadata": {},
   "source": [
    "#### In this picture we can see that the inferior part of the roof isn't built, in according to the *put_planes* function\n",
    "\n",
    "<img src=\"img4.png\">"
   ]
  },
  {
   "cell_type": "markdown",
   "metadata": {},
   "source": [
    "### 4- The *check_y_value* function\n",
    "\n",
    "In the first image of this notebook lost of roof's models are shown. Some of that models are not complete, in fact they miss both the faces ortogonal to the Y axe. To let this program model all kind of roofs, we use this function. It checks if the y value of all vertex in a cell is the same. If true, as we can see from the model's picture, that face should not be created. It checks the x value too, supposing the input polygon could have a differente axes'orientation.\n",
    "Follows the code of this checking function.\n",
    "\n",
    "\tcheck=False\t\n",
    "\thelpList=[]\n",
    "\tfor el in cell:\n",
    "\t\tvert=vertexList[el-1]\t\n",
    "\t\thelpList.append(vert)\n",
    "\ttemp=helpList[0]\n",
    "\tyValueTemp=temp[1]\n",
    "\txValueTemp=temp[0]\n",
    "\tfor v in helpList:\n",
    "\t\tif v[1]==yValueTemp or v[0]==xValueTemp:\n",
    "\t\t\tcheck=True\n",
    "\t\telse:\n",
    "\t\t\treturn False\n",
    "\treturn check"
   ]
  },
  {
   "cell_type": "markdown",
   "metadata": {},
   "source": [
    "## Show all code used"
   ]
  },
  {
   "cell_type": "code",
   "execution_count": 3,
   "metadata": {
    "collapsed": false
   },
   "outputs": [],
   "source": [
    "from pyplasm import *\n",
    "import math\n",
    "from ast import literal_eval\n",
    "\n",
    "\"\"\"round values for vertex list\"\"\"\n",
    "def round_vertex(verts):\n",
    "\tfor v in verts:\n",
    "\t\tv[0]=math.fabs(round( v[0] , 3  ))\n",
    "\t\tv[1]=math.fabs(round( v[1] , 3  ))\n",
    "\t\tv[2]=math.fabs(round( v[2] , 3  ))\n",
    "\n",
    "\"\"\"creates a dictionary using all rounded skel's vertex. Returns the compact list of vertex too\"\"\" \n",
    "def create_dict(verts,cells):\n",
    "\tdct={}\n",
    "\tvertexList=[]\n",
    "\t#counter for index in vertex list\n",
    "\ti=1\n",
    "\tfor v in verts:\n",
    "\t\t#creates string type keys\n",
    "\t\tkey=\",\".join(str(x) for x in v)\n",
    "\t\tif not key in dct.keys():\n",
    "\t\t\tdct[key]=[i]\n",
    "\t\telse: \n",
    "\t\t\tdct.get(key).append(i)\n",
    "\t\ti+=1\n",
    "\n",
    "\tfor key in dct.keys():\n",
    "\t\tvertexList.append(literal_eval(key))\n",
    "\n",
    "\treturn dct , vertexList\n",
    "\t\n",
    "\"\"\"replaces the indexes of merged vertex, with the needed one\"\"\"\n",
    "def replace_cell(dct,cells):\n",
    "\t\n",
    "\t#iterates on each cell.\n",
    "\tfor cell in cells:\n",
    "\t\t#iterates on tuple in the cell\n",
    "\t\tfor elT in cell:\n",
    "\t\t\t#iterates on dictionary\n",
    "\t\t\tfor key, vals in dct.items():\n",
    "\t\t\t\t#checks if the tuple elemente is in the list of values and if True replaces the value with the key\n",
    "\t\t\t\tif elT in vals:\n",
    "\t\t\t\t\tindex=cell.index(elT)\n",
    "\t\t\t\t\tcell[index]=int(key)\n",
    "\t\t\n",
    "\n",
    "\"\"\"It receivs a poligon from the function produce_hpc_value() and creates the roof using vertex and cells\"\"\"\n",
    "def ggpl_build_roof(val):\n",
    "\troof=produce_hpc_value(val)\n",
    "\tskel=SKEL_2(roof)\n",
    "\n",
    "\t#gets all values from the skeleton\n",
    "\t(verts,cells,pol)=UKPOL(skel)\n",
    "\t\n",
    "\t#rounds the vertex values\n",
    "\tround_vertex(verts)\n",
    "\n",
    "\t(vertexDict,vertexList)=create_dict(verts,cells)\n",
    "\n",
    "\t#creates an helper dictionary for iterating on cells, using a counter as key\n",
    "\thelperDict={}\n",
    "\tcount=1\n",
    "\tfor el in vertexDict.keys():\n",
    "\t\thelperDict[count]=vertexDict.get(el)\t\n",
    "\t\tcount+=1\n",
    "\t\n",
    "\treplace_cell(helperDict,cells)\n",
    "\t\n",
    "\tfinalRoof=MKPOL([vertexList,cells,None])\n",
    "\n",
    "\t\n",
    "\n",
    "\tskel1=SKEL_1(finalRoof)\t\n",
    "\t\n",
    "\t#VIEW(finalRoof)\n",
    "\t#VIEW(skel1)\n",
    "\tskel1=(OFFSET([.1,.1,.3])(skel1))\n",
    "\n",
    "\tcoveringCells=put_planes(vertexList,cells)\n",
    "\tcoveringPol=MKPOL([vertexList,coveringCells,None])\n",
    "\t\n",
    "\t#VIEW(coveringPol)\n",
    "\tstruct=STRUCT([skel1,COLOR(RED)(coveringPol)])\n",
    "\tVIEW(struct)\n",
    "\n",
    "\n",
    "\"\"\"This function builds planes that will be put above the beams. It builds plane only for cells with at least one vertex having z!=0. \n",
    "    Moreover, according to the used models, we check if the vertex in cells have all the same x value. If true that cell isn't build\"\"\"\n",
    "def put_planes(vertexList,cells):\n",
    "\t#list of all vertex that satisfies condition and cells needed\n",
    "\tind=[]\n",
    "\tbuildingCells=[]\n",
    "\tfor v in vertexList:\n",
    "\t\tif v[2]> 0.0:\n",
    "\t\t\ti=vertexList.index(v)\n",
    "\t\t\tind.append(i+1)\n",
    "\t\n",
    "\tfor index in ind:\n",
    "\t\tfor cell in cells:\n",
    "\t\t\tif index in cell and not check_y_value(cell,vertexList) and not cell in buildingCells:\n",
    "\t\t\t\tbuildingCells.append(cell)\n",
    "\t\n",
    "\treturn buildingCells\n",
    "\n",
    "\"\"\"checks if all vertices in the given cell have the y value equals to 0\"\"\"\n",
    "def check_y_value(cell,vertexList):\n",
    "\tcheck=False\t\n",
    "\thelpList=[]\n",
    "\tfor el in cell:\n",
    "\t\tvert=vertexList[el-1]\t\n",
    "\t\thelpList.append(vert)\n",
    "\ttemp=helpList[0]\n",
    "\tyValueTemp=temp[1]\n",
    "\txValueTemp=temp[0] #if the input hpc value has a different axes'orientation\n",
    "\tfor v in helpList:\n",
    "\t\tif v[1]==yValueTemp or v[0]==xValueTemp:\n",
    "\t\t\tcheck=True\n",
    "\t\telse:\n",
    "\t\t\treturn False\n",
    "\treturn check\n",
    "\t\t\t\t\n",
    "\"\"\"Produces the hpc value, input for the above function\"\"\"\n",
    "def produce_hpc_value(val):\n",
    "\tverts1=[[0,0,0],[0,6,0],[8,6,0],[8,0,0],[4,1,3],[4,5,3]]\n",
    "\tcells1=[[1,4,5],[2,6,3],[3,4,5,6],[1,2,6,5],[1,4,3,2]]\n",
    "\tpols=None\n",
    "\thip_roof=MKPOL([verts1,cells1,pols])\n",
    "\tverts2=[[0,0,0],[2,0,3],[2,8,3],[0,8,0],[6,0,6],[6,8,6],[10,0,3],[10,8,3],[12,0,0],[12,8,0]]\n",
    "\tcells2=[[1,2,3,4],[2,3,6,5],[5,6,8,7],[7,8,10,9],[1,4,9,10],[1,2,5,7,9],[3,4,6,8,10]]\n",
    "\tgambrel_roof=MKPOL([verts2,cells2,pols])\n",
    "\t\n",
    "\t### Following this examplas,add your polygon model in this section and ###\n",
    "\t### update the if statement to let the program execute it              ###\n",
    "\t\n",
    "\tif val==1:\n",
    "\t\treturn hip_roof\n",
    "\telif val==2:\n",
    "\t\treturn gambrel_roof\n",
    "\n",
    "if __name__=='__main__':\n",
    "\tggpl_build_roof(1)\n",
    "\tggpl_build_roof(2)"
   ]
  },
  {
   "cell_type": "markdown",
   "metadata": {},
   "source": [
    "### 5- Additional comments \n",
    "\n",
    "In this code two examples are made.\n",
    "If you want to add your own polygon model, just create it in the *produce_hpv_value* function, following the examples."
   ]
  },
  {
   "cell_type": "markdown",
   "metadata": {},
   "source": [
    "#### The gambrel roof model\n",
    "\n",
    "<img src=\"img5.png\">"
   ]
  },
  {
   "cell_type": "markdown",
   "metadata": {},
   "source": [
    "#### The two polygons used in input\n",
    "\n",
    "<img src=img6.png>\n",
    "\n",
    "<img src=img7.png>"
   ]
  },
  {
   "cell_type": "code",
   "execution_count": null,
   "metadata": {
    "collapsed": true
   },
   "outputs": [],
   "source": []
  }
 ],
 "metadata": {
  "kernelspec": {
   "display_name": "Python 2",
   "language": "python",
   "name": "python2"
  },
  "language_info": {
   "codemirror_mode": {
    "name": "ipython",
    "version": 2
   },
   "file_extension": ".py",
   "mimetype": "text/x-python",
   "name": "python",
   "nbconvert_exporter": "python",
   "pygments_lexer": "ipython2",
   "version": "2.7.12"
  }
 },
 "nbformat": 4,
 "nbformat_minor": 1
}
