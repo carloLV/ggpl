{
 "cells": [
  {
   "cell_type": "markdown",
   "metadata": {},
   "source": [
    "# Suburban neighborhood\n",
    "\n",
    "In this workshop, the last of the series, some of previous functions are reused, together with some new functions, to build a model of a *suburban neighborhood*. \n",
    "Firstly  I choose the **street's model** from which i build the shape of the roads. The model is shown in this picture.\n",
    "<img src ='suburban-plan.jpg'>\n",
    "\n",
    "Just pay attention to the shape of streets. The buildings and other things put on the scene were all choose by me, in order to create a nice environment and to reuse my pre-built functions.\n",
    "\n",
    "Streets were modeled creating a grid on paper and defining all points that were helpful for creating the streets.\n",
    "The streets are sorrounded by grass (obtained trough a texture) and all the plan that contains these two elements lays on a sort of table, like it is a scale model of that village.\n",
    "   "
   ]
  },
  {
   "cell_type": "code",
   "execution_count": 15,
   "metadata": {
    "collapsed": true
   },
   "outputs": [],
   "source": [
    "def build_roads(pts):\n",
    "\tstRet=STRUCT([CUBOID([0,0,0])])\n",
    "\tfor el in pts:\n",
    "\t\tst = MAP(BEZIERCURVE(el))(INTERVALS(1)(32))\n",
    "\t\tstRet = STRUCT([stRet,st])\n",
    "\t\n",
    "\tstRet = OFFSET([6,6,.5])(stRet)\n",
    "\tbox = BOX([1,2])(stRet)\n",
    "\tbox = TEXTURE(\"texture/grass2.jpg\")(box)\n",
    "\n",
    "\t#defining scaling factors\n",
    "\txfactor = 15/SIZE([1])(box)[0]\n",
    "\tyfactor = 15.1/SIZE([2])(box)[0]\n",
    "\tzfactor = xfactor\n",
    "\n",
    "\tstRet = TEXTURE(\"texture/asphalt.jpg\")(stRet)\n",
    "\tstRet = STRUCT([stRet,box])\n",
    "\treturn stRet \t\t\t\t\t\t\n"
   ]
  },
  {
   "cell_type": "markdown",
   "metadata": {},
   "source": [
    "## Houses:\n",
    "\n",
    "In this workshop the file .py that is mostly reuses is **[workshop 10](https://github.com/carloLV/ggpl/blob/master/2017-01-13/Workshop_10.ipynb)**.\n",
    "I use that file to build the houses I need for this workshop. To make sort of qartier, I decided to build groups of houses in one dedicate functions, listed below."
   ]
  },
  {
   "cell_type": "code",
   "execution_count": 16,
   "metadata": {
    "collapsed": true
   },
   "outputs": [],
   "source": [
    "def build_nbood():\n",
    "\thouse = w10.house_builder('help/lines_file/')\n",
    "\ttree = tree_creator(SIZE(3)(house))\n",
    "\thouse = STRUCT([house,tree,T(2)(SIZE(2)(house))(tree),T(1)(SIZE(1)(house))(tree)])\n",
    "\thouse2 = T(1)(20)(house)\n",
    "\thouses = STRUCT([house,house2])\n",
    "\thouses2 = R([1,2])(PI)(houses)\t\n",
    "\thouses2 = T([1,2])([40,-5])(houses2)\n",
    "\tquartier = STRUCT([houses,houses2])\n",
    "\tquartier = S([1,2,3])([.8,.8,.8])(quartier)\n",
    "\treturn quartier\n"
   ]
  },
  {
   "cell_type": "markdown",
   "metadata": {},
   "source": [
    "The result of this function is in image below.\n",
    "<img src='img/quartier.png'>\n",
    "\n",
    "I decided to add some trees, that insert a naturalistic element in the model. This is the function that models trees, "
   ]
  },
  {
   "cell_type": "code",
   "execution_count": 17,
   "metadata": {
    "collapsed": true
   },
   "outputs": [],
   "source": [
    "def tree_creator(h):\n",
    "\tleafs = SPHERE(0)([1,1])\n",
    "\tr = h/15\n",
    "\tlog = CYLINDER([r,h])(20)\n",
    "\tlog = TEXTURE(\"texture/log.jpg\")(log)\n",
    "\tleaf = SPHERE(h/8)([24,32])\n",
    "\tleaf = TEXTURE(\"texture/grass.jpg\")(leaf)\t\n",
    "\tleafs = STRUCT([leafs,T(1)(h/6)(leaf)])\n",
    "\tleafs = STRUCT([leafs,T(1)(-h/6)(leaf)])\n",
    "\tleafs2 = R([1,2])(PI/2)(leafs)\n",
    "\tleafs = STRUCT([leafs,leafs2])\t\n",
    "\t\n",
    "\tleafs = T(3)(h)(leafs)\n",
    "\ttree = STRUCT([log,leafs,T(3)(h+h/8)(leaf)])\n",
    "\treturn tree\n"
   ]
  },
  {
   "cell_type": "markdown",
   "metadata": {},
   "source": [
    " and this is the result from this function.\n",
    "<img src='img/tree.png'>"
   ]
  },
  {
   "cell_type": "markdown",
   "metadata": {},
   "source": [
    "## Park\n",
    "\n",
    "To add some details and make the model more realistic, I decided to build a sort of park, whith a fountain, some benches and trees.\n",
    "The benches are modeled with this function:"
   ]
  },
  {
   "cell_type": "code",
   "execution_count": 18,
   "metadata": {
    "collapsed": true
   },
   "outputs": [],
   "source": [
    "def create_bench(r,h):\n",
    "\t#bench's base dimensions\n",
    "\thBase = h/2\n",
    "\tlBase = r/6\n",
    "\twBase = r/3\n",
    "\n",
    "\tbase = CUBOID([lBase,wBase,hBase])\n",
    "\tbase2 = T(1)(r-lBase)(base)\n",
    "\tbase = STRUCT([base,base2])\n",
    "\tbase = MATERIAL([0,0,.2,1,  0,0,0,1,  0,0,0,0, 0,0,0,0, 1])(base)\n",
    "\tsitting = CUBOID([r,wBase,.3])\n",
    "\tsitting = MATERIAL([.6,.3,0,1,  0,0,0,1,  0,0,0,0, 0,0,0,0, 1])(sitting)\t\n",
    "\tback = \tCUBOID([r,.2,hBase*1.5])\n",
    "\tback = MATERIAL([.63,.63,.63,1,  0,0,0,1,  0,0,0,0, 0,0,0,0, 1])(back)\n",
    "\tsitting = STRUCT([sitting,back])\n",
    "\tsitting = T(3)(hBase)(sitting)\t\n",
    "\tbench = STRUCT([base,sitting])\n",
    "\treturn bench\n"
   ]
  },
  {
   "cell_type": "markdown",
   "metadata": {},
   "source": [
    "While the fountain is modeled thanks to another function. Colors are assigned to objects using the *primitive* **MATERIAL**. All benches and fountain are created in relation to the dimensions of buildings. In this way, scaling buildings implies a scaling in all other elements too. Follows the function for the park and a picture of the part created whith this piece of code.\n",
    "<img src='img/park.png'>"
   ]
  },
  {
   "cell_type": "code",
   "execution_count": 19,
   "metadata": {
    "collapsed": true
   },
   "outputs": [],
   "source": [
    "def build_fountain(r,h):\n",
    "\tr2 = r-r/7\n",
    "\thB= h/8\n",
    "\n",
    "\ttree = tree_creator(h)\t\n",
    "\t\n",
    "\tbasement = CYLINDER([r,hB])(20)\n",
    "\tbasement = MATERIAL([.13,.13,.13,1,  0,0,0,1,  0,0,0,0, 0,0,0,0, 1])(basement)\t\n",
    "\thole = CYLINDER([r2,hB/2])(20)\n",
    "\thole = T(3)(hB/2)(hole)\n",
    "\thole = MATERIAL([.2,.4,1,1,  0,0,0,1,  0,0,0,0, 0,0,0,0, 1])(hole)\n",
    "\tobelisk = CYLINDER([r/9,h-hB])(6)\n",
    "\tobelisk = MATERIAL([.13,.13,.13,1,  0,0,0,1,  0,0,0,0, 0,0,0,0, 1])(obelisk)\n",
    "\tfountain = STRUCT([basement,hole,obelisk])\n",
    "\t\n",
    "\ttreeSet = T(1)(r+r/3)(tree)\n",
    "\ttreeSet = STRUCT([treeSet,T(1)(-r-r/3)(tree)])\n",
    "\ttreeSet = STRUCT([treeSet,T(2)(-r-r/3)(tree)])\n",
    "\ttreeSet = STRUCT([treeSet,T(2)(+r+r/3)(tree)])\n",
    "\n",
    "\tbench = create_bench(r,h/4)\n",
    "\tbench1 = R([1,2])(PI/3*2)(bench)\t\n",
    "\tbench1 = T([1,2])([+r+r/2,+r+r/2])(bench1)\n",
    "\t\n",
    "\t\n",
    "\tbench2 = R([1,2])(PI/4)(bench)\n",
    "\tbench2 = T([1,2])([+r+r/2,-r-r/2])(bench2)\n",
    "\t\n",
    "\tbench3 = R([1,2])(-PI/4)(bench)\n",
    "\tbench3 = T([1,2])([-r-r/2,-r-r/2])(bench3)\n",
    "\t\n",
    "\tbench4 = R([1,2])(-PI/3*2)(bench)\n",
    "\tbench4 = T([1,2])([-r-r/2,+r+r/2])(bench4)\t\n",
    "\t\t\n",
    "\tbenches = STRUCT([bench1,bench2,bench3,bench4])\n",
    "\tcomplete = STRUCT([fountain,treeSet,benches])\n",
    "\t\n",
    "\treturn complete\n"
   ]
  },
  {
   "cell_type": "markdown",
   "metadata": {},
   "source": [
    "## Other objects\n",
    "\n",
    "To add some fancy and realism, two more objects are designed and put in the scene. \n",
    "\n",
    "#### The sign:\n",
    "In every cities and places there are several signs, some for directions, others whith commercials;\n",
    "I used a sign to put the logo of this university; a sort of signature about where this project belongs. \n",
    "<img src='img/sign.png'>"
   ]
  },
  {
   "cell_type": "code",
   "execution_count": 20,
   "metadata": {
    "collapsed": true
   },
   "outputs": [],
   "source": [
    "def create_sign(h):\n",
    "\tpillar = CYLINDER([.3,h])(20)\n",
    "\tpillar = MATERIAL([.13,.13,.13,1,  0,0,0,1,  0,0,0,0, 0,0,0,0, 1])(pillar)\n",
    "\tsign = CUBOID([h,.3,h/2])\n",
    "\tsign = TEXTURE(\"texture/logo.jpg\")(sign)\n",
    "\tsign = STRUCT([pillar,T([1,3])([-h/2,h])(sign)])\n",
    "\treturn sign\n",
    "\n"
   ]
  },
  {
   "cell_type": "markdown",
   "metadata": {},
   "source": [
    "#### The game:\n",
    "Then I created a simple children game, very simple and of common use. I used some simple primitives like **SKEL_1** and **OFFSET** to build a realistic model.\n",
    "<img src='img/game.png'>"
   ]
  },
  {
   "cell_type": "code",
   "execution_count": 21,
   "metadata": {
    "collapsed": true
   },
   "outputs": [],
   "source": [
    "def child_game(r):\n",
    "\tbase = CYLINDER([r,1])(16)\n",
    "\tbase = MATERIAL([.5,.5,.5,1,  0,0,0,1,  0,0,0,0, 0,0,0,0, 1])(base)\t\n",
    "\tfulcro = CYLINDER([r/18,4])(16)\n",
    "\tfulcro = MATERIAL([.13,.13,.13,1,  0,0,0,1,  0,0,0,0, 0,0,0,0, 1])(fulcro)\n",
    "\thandle = CYLINDER([r,3])(16)\t\n",
    "\thandle = SKEL_1(handle)\n",
    "\thandle = OFFSET([.3,.3,.3])(handle)\n",
    "\thandle =  MATERIAL([.13,.13,.13,1,  0,0,0,1,  0,0,0,0, 0,0,0,0, 1])(handle)\n",
    "\tcontroller = CYLINDER([r/5,.5])(16)\n",
    "\tcontroller = MATERIAL([1,.2,.4,1,  0,0,0,1,  0,0,0,0, 0,0,0,0, 1])(controller)\n",
    "\ts = STRUCT([base,fulcro,T(3)(4)(controller),handle])\n",
    "\treturn s\n"
   ]
  },
  {
   "cell_type": "markdown",
   "metadata": {},
   "source": [
    "## Assembling all parts\n",
    "At the end, in the main function, all the parts are built thanks to their specific functions, all pieces are adequately traslated, and the final result is presented trough a VIEW function.\n",
    "\n",
    "This is the final resul:\n",
    "<img src='img/final1.png'>\n",
    "<img src='img/final2.png'>\n",
    "\n",
    "This is the code that completes all the other functions just presented:"
   ]
  },
  {
   "cell_type": "code",
   "execution_count": 22,
   "metadata": {
    "collapsed": false
   },
   "outputs": [
    {
     "name": "stdout",
     "output_type": "stream",
     "text": [
      "Child 3\n",
      "Child 3\n",
      "Child 3\n",
      "Child 3\n",
      "Child 3\n",
      "Child 3\n",
      "Child 3\n",
      "Child 3\n",
      "Child 3\n",
      "Child 3\n"
     ]
    }
   ],
   "source": [
    "from pyplasm import *\n",
    "import csv\n",
    "from help import workshop_10 as w10\n",
    "from help import workshop_05 as w5\n",
    "\n",
    "def build_bifamiliar_house():\n",
    "\thouse = w10.house_builder('help/lines_file/')\n",
    "\ttree = tree_creator(SIZE(3)(house))\n",
    "\thouse = STRUCT([house,tree,T(2)(SIZE(2)(house))(tree),T(1)(SIZE(1)(house))(tree)])\n",
    "\thouse = T(1)(SIZE(1)(house)/2)(house)\n",
    "\thouse2 = T(1)(-SIZE(1)(house))(house)\n",
    "\thouses = STRUCT([house,house2])\n",
    "\thouses = S([1,2,3])([.8,.8,.8])(houses)\n",
    "\treturn houses\n",
    "\n",
    "def build_single_house():\n",
    "\thouse = w10.house_builder('help/lines_file/')\n",
    "\ttree = tree_creator(SIZE(3)(house))\n",
    "\thouse = STRUCT([house,tree,T(2)(SIZE(2)(house))(tree),T(1)(SIZE(1)(house))(tree)])\n",
    "\treturn house\n",
    "\n",
    "if __name__ == '__main__':\n",
    "\t\n",
    "\tpoints = [[[60,0],[58,7.5],[60,15],[52,18],[46,21],[42,28],[40,32],[40,60],[40,80],[40,90]],\n",
    "\t[[42,60],[46,60],[52,60],[60,60],[65,60],[74,63],[82,66],[90,69],[100,72],[110,75]],\n",
    "\t[[60,15],[65,15],[74,18],[82,20],[90,22],[95,25],[100,30],[110,38],[115,42]],\n",
    "\t[[60,15],[60,21],[60,38],[60,41],[60,60],[60,63]],\n",
    "\t[[110,38],[105,41],[100,45],[105,50],[110,70],[115,80],[115,90]]]\n",
    "\n",
    "\tle = build_roads(points)\n",
    "\t\n",
    "\tx,y=SIZE([1,2])(le)\n",
    "\t\n",
    "\ttable = CUBOID([x,y,5])\n",
    "\ttable = MATERIAL([.6,.3,0,1,  0,0,0,1,  0,0,0,0, 0,0,0,1, 1])(table)\n",
    "\ttable = T(3)(-5.2)(table)\n",
    "\n",
    "\tq1=build_nbood()\n",
    "\tfact1 = SIZE(2)(q1)- SIZE(2)(q1)/3\n",
    "\tq1=T(2)(fact1)(q1)\t\t\n",
    "\n",
    "\tfact2 = SIZE(2)(q1)+SIZE(2)(q1)/3\n",
    "\tq2 = T(2)(fact2)(q1)\n",
    "\n",
    "\tq3 = build_bifamiliar_house()\n",
    "\tq3 = R([1,2])(PI)(q3)\t\n",
    "\tq3 = T([1,2])([SIZE(1)(q1)*2+3,y-1])(q3)\n",
    "\n",
    "\tq4 = build_single_house()\n",
    "\tq4 = T(1)(x-SIZE(1)(q4))(q4)\n",
    "\n",
    "\tgame = child_game(SIZE(1)(q4)/4)\n",
    "\tgame = T([1,2])([x/2+SIZE(1)(game)*1.5+3,SIZE(2)(game)-2])(game)\n",
    "\n",
    "\ttree = tree_creator(SIZE(3)(q1))\n",
    "\ttreeDistance = SIZE(1)(tree) + SIZE(1)(tree)/2\n",
    "\twood = tree\n",
    "\twood = STRUCT([wood,T(1)(treeDistance)(tree),T(2)(treeDistance)(tree),T(1)(-treeDistance)(tree),T(2)(-treeDistance)(tree)]) \n",
    "\twood = T([1,2])([fact1*2-2,SIZE(2)(wood)/2])(wood)\n",
    "\n",
    "\tsign = create_sign(SIZE(3)(q1))\n",
    "\tsign = T([1,2])([fact1*2,fact2])(sign)\n",
    "\n",
    "\tfountain = build_fountain(SIZE(1)(q1)/5,SIZE(3)(q1))\n",
    "\tfountain = T([1,2])([fact1*3.5,fact2])(fountain)\n",
    "\tst = STRUCT([le,table,q1,q2,q3,q4,fountain,wood,sign,game])\n",
    "\tVIEW(st)\n",
    "\n"
   ]
  },
  {
   "cell_type": "markdown",
   "metadata": {},
   "source": [
    "### Some last pictures\n",
    "\n",
    "<img src='img/final3.png'>\n",
    "\n",
    "<img src='img/final4.png'>\n",
    "\n",
    "<img src='img/final5.png'>\n"
   ]
  }
 ],
 "metadata": {
  "kernelspec": {
   "display_name": "Python 2",
   "language": "python",
   "name": "python2"
  },
  "language_info": {
   "codemirror_mode": {
    "name": "ipython",
    "version": 2
   },
   "file_extension": ".py",
   "mimetype": "text/x-python",
   "name": "python",
   "nbconvert_exporter": "python",
   "pygments_lexer": "ipython2",
   "version": "2.7.12"
  }
 },
 "nbformat": 4,
 "nbformat_minor": 1
}
