{
 "cells": [
  {
   "cell_type": "markdown",
   "metadata": {},
   "source": [
    "# Assembling of a multistorey house\n",
    "\n",
    "In this workshop some of previous developed functions are used (some of them modified), to build a complex structure representing a moder house. The model chosen follows in the next picture.\n",
    "\n",
    "<img src='map.jpg'>"
   ]
  },
  {
   "cell_type": "markdown",
   "metadata": {
    "collapsed": true
   },
   "source": [
    "# 1st part\n",
    "\n",
    "In the first part it is reused the **workshop_08**. In that workshop I built a house and, using appropriate functions, I left some holes in the walls, simulating windows and doors. \n",
    "For this workshop the functions have been changed, in order to fully satisfy the necessity of this workshop. Here it is listed part of the used functions, left here for example.\n",
    "\n",
    "\n",
    "\twith open(\"lines_file/\" + 'porte' + \".lines\", \"rb\") as csvFile:\n",
    "\t\treader = csv.reader(csvFile, delimiter=\",\")\n",
    "\t\tholes = []\n",
    "\t\tbasePol = []\n",
    "\t\tcont = 0\n",
    "\t\tyDim=0\n",
    "\t\txDim=0\n",
    "\t\tcreatedDoors = []\n",
    "\t\tfor line in reader:\n",
    "\t\t\tcont +=1\n",
    "\t\t\tbasePol.append([float(line[0])*xFactor,float(line[1])*yFactor])\n",
    "\t\t\tif cont < 3: \n",
    "\t\t\t\tif round(float(line[0]), 1) == round(float(line[2]), 1):\n",
    "\t\t\t\t\tyDim = abs(float(line[3]) - float(line[1]))\n",
    "\t\t\t\t \t\t\n",
    "\t\t\t\telif round(float(line[1]), 1) == round(float(line[3]), 1):\n",
    "                    \t\t\txDim = abs(float(line[2]) - float(line[0]))\n",
    "\t\t\t\t\t\t\t\t\t\n",
    "\t\t\t#create a cube with 4 vertices and restart finding\n",
    "\t\t\tif(cont == 4):\n",
    "\t\t\t\tholes.append(MKPOL([basePol,[[1,2,3,4]],None]))\n",
    "\t\t\t\tbasePol = []\n",
    "\t\t\t\tdoor = CUBOID([0,0,0])\n",
    "\t\t\t\tcont = 0\n",
    "\t\t\t\tif (xDim < yDim):\n",
    "\t\t\t\t\tdoor = w7.ggpl_door(xDo,yDo,bDo)(yDim*yFactor,.2,3)\n",
    "\t\t\t\t\tdoor = T([1,2])([-0.1,0.4])(door)\n",
    "\t\t\t\t\tdoor = R([1,2])(-PI/2)(door)\n",
    "\t\t\t\telse:\n",
    "\t\t\t\t\tdoor = w7.ggpl_door(xDo,yDo,bDo)(xDim*xFactor,.2,3)\n",
    "\t\t\t\t\tdoor = T([1,2])([0,0.1])(door)\n",
    "\t\t\t\t\n",
    "  \n",
    "Combining these kind of functions, and making adequate scaling and traslation, produces the following result:\n",
    "\n",
    "<img src='img/1floor.png'>\n"
   ]
  },
  {
   "cell_type": "markdown",
   "metadata": {
    "collapsed": true
   },
   "source": [
    "# 2nd part\n",
    "\n",
    "Each house has a roof. For this one, the roof is modeled thanks to functions in **workshop_09**. That workshop hasn't been changed and the model it builds is shown below.\n",
    "\n",
    "<img src='img/roof.png'>\n",
    "\n",
    "I have decided to build a 2 floor house; to make multiple floor, the piece of floor shown above is duplicated 2 times.\n",
    "It is possible create buildings of N floor, simply changing a few thing in the main code.\n",
    "\n",
    "<img src='img/backHouse.png'>"
   ]
  },
  {
   "cell_type": "markdown",
   "metadata": {},
   "source": [
    "# 3rd part\n",
    "\n",
    "To reach the second floor I decided to build a stair, very similar to the one created in **workshop_03**. I made some changes to that function to make a stair that is well done and is *layout-similar* to the house built in this workshop. The function that creates the new stairs is listed below;\n",
    "\n",
    "    def ggpl_stair(dx,dy,dz):\n",
    "\t#get steps dimensions\n",
    "\tstepX=dx/2\n",
    "\tstepY=dy/8 #suppose the platform big long as four steps\n",
    "\tstepZ=dz/11\n",
    "\n",
    "\t#counter for height and distance\n",
    "\tcountH=stepZ\n",
    "\tcountD=stepY\n",
    "\t#building single step\n",
    "\tstep=CUBOID([stepX,stepY,stepZ])\n",
    "\n",
    "\tst=step\n",
    "\t#cycle for creating first group of stairs\n",
    "\twhile countH<(stepZ*4):\n",
    "\t\tadd_step=T(2)(countD)(step)\n",
    "\t\tcountD+=stepY\n",
    "\t\tst=STRUCT([st,T(3)(countH),add_step])\n",
    "\t\tcountH+=stepZ\n",
    "\n",
    "\tsecondHalf=st\t\n",
    "\n",
    "\t# creating the platform and using T transform\n",
    "\tplatform=CUBOID([dx+dx/2,4*stepY,stepZ])\n",
    "\t\n",
    "\t#creating \n",
    "\trHeight = stepZ*4\n",
    "\tholder = CYLINDER([stepY/3,rHeight])(15)\n",
    "\tholder = T(2)(4*stepY-stepY/3)(holder)\n",
    "\tholder2 = T(1)(dx+dx/2-stepY/3)(holder)\n",
    "\thandle = CUBOID([dx+dx/2,stepY/2,stepZ/2])\t\n",
    "\thandle = T([3,2])([rHeight,4*stepY-stepY/3])(handle)\n",
    "\tplatform = STRUCT([platform,holder,holder2,handle])\n",
    "\t\n",
    "\t#adding platform to struct\n",
    "\tplatform=T(2)(countD)(platform)\n",
    "\tst=STRUCT([st,T(3)(countH),platform])\n",
    "\t\n",
    "\tcountH+=stepZ\n",
    "\n",
    "\t# applying transforms to the second half of stairs\t\n",
    "\tsecondHalf=R([1,2])(PI)(secondHalf)\n",
    "\t\t\n",
    "\tsecondHalf=T(1)(stepX*2+dx/2)(secondHalf)\n",
    "\tsecondHalf=T(2)(4*stepY)(secondHalf)\t\t\n",
    "\tsecondHalf=T(3)(countH)(secondHalf)\n",
    "\tcountH = countH + 4*stepZ\n",
    "\n",
    "\tstairs=STRUCT([st,secondHalf,T([2,3])([-countD-4*stepY,countH]),platform])\t\n",
    "\tstairs=T(2)(4*stepY)(stairs)\n",
    "\treturn stairs\n",
    "    \n",
    "You can see the stair model in the following picture.\n",
    "\n",
    "<img src='img/stair.png'>\n"
   ]
  },
  {
   "cell_type": "markdown",
   "metadata": {},
   "source": [
    " # 4th part\n",
    " \n",
    " The last part is about assembling all pieces built, to create the final building. Using adequate traslation and rotation, the model is assembled and the final result is:\n",
    " \n",
    " <img src='img/house.png'>\n",
    " \n",
    " In the following part the code is presented, albeit the main function just recalls all the previous created workshops."
   ]
  },
  {
   "cell_type": "code",
   "execution_count": 3,
   "metadata": {
    "collapsed": false
   },
   "outputs": [],
   "source": [
    "from pyplasm import *\n",
    "from res import workshop_08 as w8\n",
    "from res import workshop_7 as w7\n",
    "from res import workshop_03 as w3\n",
    "from res import workshop_09 as w9\n",
    "\n",
    "\"\"\" This functions uses some of the previous created in past workshop, to build a full model of a house.\n",
    "    Functions from past workshop has been modified in some cases, to perform their task in a better way.\n",
    "\t@params: Folder that contains .lines files.\n",
    "\t@return: Hpc value for all models \"\"\"\n",
    "def house_builder(folder):\n",
    "\t#builds externals wall using previous function\n",
    "\twalls = w8.ggpl_build_house(folder)\n",
    "\tVIEW(walls)\n",
    "\t\n",
    "\n",
    "\t\n",
    "if __name__ == '__main__':\n",
    "\t\n",
    "\thouse_builder(\"lines_file/\")"
   ]
  },
  {
   "cell_type": "code",
   "execution_count": null,
   "metadata": {
    "collapsed": true
   },
   "outputs": [],
   "source": []
  }
 ],
 "metadata": {
  "kernelspec": {
   "display_name": "Python 2",
   "language": "python",
   "name": "python2"
  },
  "language_info": {
   "codemirror_mode": {
    "name": "ipython",
    "version": 2
   },
   "file_extension": ".py",
   "mimetype": "text/x-python",
   "name": "python",
   "nbconvert_exporter": "python",
   "pygments_lexer": "ipython2",
   "version": "2.7.12"
  }
 },
 "nbformat": 4,
 "nbformat_minor": 1
}
