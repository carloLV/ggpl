{
 "cells": [
  {
   "cell_type": "markdown",
   "metadata": {},
   "source": [
    "# School furniture\n",
    "\n",
    "In this code several functions are provided; each function creates a piece of school furniture. Then, in the *ggpl_create_furniture* function, all pieces are merged. The final result is a model of a school room. \n",
    "The parameter for this function are the room dimension. To make the dimensions clear, room's skeleton is provided.\n",
    "\n",
    "<img src=\"class.png\">\n",
    "\n",
    "<img src=\"class2.png\">"
   ]
  },
  {
   "cell_type": "markdown",
   "metadata": {},
   "source": [
    "## Piece 1: Chair\n",
    "\n",
    "The function used for this element is *create_chair*. It creates a chair, as shown in the picture.\n",
    "\n",
    "<img src=\"chair.png\">"
   ]
  },
  {
   "cell_type": "markdown",
   "metadata": {},
   "source": [
    "## Piece 2: Desk\n",
    "\n",
    "The function used for this element is *create_desks*. It creates a desk; then uses the above function to create a chair for this desk. In the following pictures the 2 part of computation ar shown\n",
    "\n",
    "\n",
    "\n",
    "<img src=\"desk.png\">\n",
    "\n",
    "<img src=\"desk_chair.png\">"
   ]
  },
  {
   "cell_type": "markdown",
   "metadata": {},
   "source": [
    "## Piece 3: Blackboard\n",
    "\n",
    "The funtion used is *create_blackboard*. It creates the blackboard for the class, as shown in the picture.\n",
    "\n",
    "<img src=\"blackboard.png\">"
   ]
  },
  {
   "cell_type": "markdown",
   "metadata": {},
   "source": [
    "## Piece 4: Teaching Desk\n",
    "\n",
    "The function used is *create_teaching_desk*. Creates a desk having some covering panels on three edges. The same as desks, a chair is provided. In this case, chair is obtained scaling the one used for desks.\n",
    "\n",
    "<img src=\"teaching_desk.png\">"
   ]
  },
  {
   "cell_type": "markdown",
   "metadata": {},
   "source": [
    "## Piece 5: Guardrobe\n",
    "\n",
    "\n",
    "The function used is *create_guardrobe*. Creates a guardrobe whitout doors.\n",
    "\n",
    "<img src=\"guardrobe.png\">"
   ]
  },
  {
   "cell_type": "markdown",
   "metadata": {
    "collapsed": true
   },
   "source": [
    "## Code Used"
   ]
  },
  {
   "cell_type": "code",
   "execution_count": 1,
   "metadata": {
    "collapsed": false
   },
   "outputs": [
    {
     "name": "stdout",
     "output_type": "stream",
     "text": [
      "Evaluating fenvs.py..\n",
      "...fenvs.py imported in 0.006208 seconds\n"
     ]
    },
    {
     "name": "stderr",
     "output_type": "stream",
     "text": [
      "/usr/local/lib/python2.7/dist-packages/larlib/larstruct.py:233: FutureWarning: comparison to `None` will result in an elementwise object comparison in the future.\n",
      "  self.body = [item for item in data if item != None]\n"
     ]
    }
   ],
   "source": [
    "from larlib import *\n",
    "\n",
    "\"\"\"This program creates a school class furniture. The dimension of objects are in meters. The parameters are the room's dimensions. Bigger are dimensions, more object can be inserted in the class\"\"\"\n",
    "\n",
    "\"\"\"This function creates some school furniture, using the room's dimensions and makes the appropriates translation for positioning objects.\"\"\"\n",
    "\"\"\"It duplicates the object needed more than once, too\"\"\"\n",
    "def ggpl_create_furniture(dx,dy,dz):\n",
    "\tskel=SKEL_1(CUBOID([dx,dy,dz]))\n",
    "\tdesk=create_desk(dx,dy,dz)\n",
    "\tblackBoard=create_blackboard(dx,dy,dz)\n",
    "\tteachingDesk=create_teaching_desk(dx,dy,dz)\n",
    "\tguardrobe=create_guardrobe(dx,dy,dz)\n",
    "\n",
    "\t\"\"\"In this section the code duplicates desks to fill the class space\"\"\"\n",
    "\n",
    "\t#these are distances from walls, supposing the same distance from walls is always mantained in all classes\n",
    "\t#if you want less or more distance from wall, just change this two variables\n",
    "\n",
    "\tspaceX= 2.6 #at least the double of teaching_desk, from the two walls\n",
    "\tspaceY=0.8 #at least one desk, from the two walls \n",
    "\n",
    "\t#counters for filling classroom with desks\n",
    "\tcountX=(0.5*2)\n",
    "\tcountY=(0.7*2)\n",
    "\t\n",
    "\tdesks=desk\n",
    "\t#cycle for creating all desks till their dimension arrives to the wall\n",
    "\twhile countX<(dx-(spaceX*2)):\n",
    "\t\tdesks = STRUCT([desks,T(1)(countX),desk])\n",
    "\t\tcountX+=(0.5*2)\n",
    "\tdeskLine=desks\n",
    "\twhile countY<(dy-(spaceY*2)):\n",
    "\t\tdesks=STRUCT([desks,T(2)(countY),deskLine])\n",
    "\t\tcountY+=(0.7*2)\n",
    "\n",
    "\t#traslate desk using this parameters\n",
    "\tdesks=T([1,2])([spaceX,spaceY])(desks)\n",
    "\n",
    "\t\"\"\"In this section all object are appropriately traslated\"\"\"\n",
    "\t\n",
    "\tblackBoard=T([1,2,3])([dx,dy/2-2.0,dz/3])(blackBoard)\n",
    "\tteachingDesk=T([1,2])([(dx-1.6),dy/3])(teachingDesk)\n",
    "\n",
    "\t#the bigger is the class, more guardrobe will be inserted\n",
    "\tguardrobeLimit=1.8 #distance from wall for guardrobe\n",
    "\tguardrobeCounter=guardrobeLimit+1.2 #1.2 is the dimension on y of the guardrobe created\n",
    "\tg_robes=guardrobe\n",
    "\twhile guardrobeCounter<(dy-(guardrobeLimit*2)):\n",
    "\t\tg_robes=STRUCT([g_robes,T(2)(guardrobeCounter),guardrobe])\n",
    "\t\tguardrobeCounter+=(1.2*2)\n",
    "\t\n",
    "\tg_robes=T(2)(1.8)(g_robes)\n",
    "\n",
    "\n",
    "\t#merging all pieces for creating the class\n",
    "\tclassFurniture=STRUCT([desks,skel])\n",
    "\tclassFurniture=STRUCT([classFurniture,blackBoard])\n",
    "\tclassFurniture=STRUCT([classFurniture,teachingDesk])\n",
    "\tclassFurniture=STRUCT([classFurniture,g_robes])\n",
    "\tVIEW(classFurniture)\n",
    "\n",
    "\"\"\"This function creates a simple desk, and puts under it a chair, created in the below function\"\"\"\n",
    "def create_desk(dx,dy,dz):\n",
    "\t\n",
    "\t#creates desk's legs\n",
    "\tleg=CUBOID([0.03,0.03,0.7])\n",
    "\tlegs=STRUCT([leg,T(2)(0.7)(leg)])\n",
    "\tlegs=STRUCT([legs,T(1)(0.5)(legs)])\n",
    "\t\n",
    "\t#creates the plane\n",
    "\tplane = CUBOID([0.53,0.73,0.01])\n",
    "\tplane=COLOR(GREEN)(plane)\n",
    "\tdesk = STRUCT([legs,T(3)(0.7)(plane)])\n",
    "\t\n",
    "\t#adding chairs to desk\n",
    "\tchair=create_chair()\n",
    "\tdesk=STRUCT([desk,T([1,2])([-0.05,0.3]),chair])\n",
    "\n",
    "\treturn desk\n",
    "\t\n",
    "\"\"\"It creates the chair\"\"\"\n",
    "def create_chair():\n",
    "\tleg=CUBOID([0.03,0.03,0.4])\n",
    "\tlegs=STRUCT([leg,T(2)(0.3)(leg)])\n",
    "\tlegs=STRUCT([legs,T(1)(0.4)(legs)])\n",
    "\t\n",
    "\t#creates the sit\n",
    "\tsit = CUBOID([0.43,0.33,0.01])\n",
    "\tsit=COLOR(RED)(sit)\n",
    "\tchair = STRUCT([legs,T(3)(0.4)(sit)])\n",
    "\t\n",
    "\tback = CUBOID([0.03,0.33,0.4])\n",
    "\tchair=STRUCT([chair,T(3)(0.4),back])\n",
    "\treturn chair\n",
    "\n",
    "\"\"\"It creates a blackboard\"\"\"\n",
    "def create_blackboard(dx,dy,dz):\n",
    "\tblackBoard=COLOR(BLACK)(CUBOID([0.1,3.5,1.3]))\n",
    "\tskel=SKEL_1(CUBOID([0.1,3.5,1.3]))\n",
    "\tskel=OFFSET([.05,.05,.05])(skel)\n",
    "\tstruct=STRUCT([skel,blackBoard])\n",
    "\t\n",
    "\treturn struct\n",
    "\n",
    "def create_teaching_desk(dx,dy,dz):\n",
    "\tleg=CYLINDER([0.05,0.9])(30)\n",
    "\tlegs=STRUCT([leg,T(2)(1.3)(leg)])\n",
    "\tlegs=STRUCT([legs,T(1)(0.7)(legs)])\n",
    "\tlegs=COLOR(BLACK)(legs)\n",
    "\n",
    "\t#supposing this desk has covering planes on three edges\n",
    "\tcoveringFront=CUBOID([0.01,1.35,0.7])\n",
    "\tcoveringFront=COLOR(Color4f([205/255.0,170/255.0,125/255.0,1]))(coveringFront)\n",
    "\tdesk=STRUCT([legs,T(3)(0.2),coveringFront])\n",
    "\tcoverLateral=CUBOID([0.75,0.01,0.7])\n",
    "\tcoverLateral=COLOR(Color4f([205/255.0,170/255.0,125/255.0,1]))(coverLateral)\n",
    "\tdesk=STRUCT([desk,T([2,3])([1.3,0.2]),coverLateral])\n",
    "\tdesk=STRUCT([desk,T(3)(0.2),coverLateral])\n",
    "\n",
    "\tplane=CUBOID([0.7,1.3,0.02])\n",
    "\tplane=COLOR(Color4f([205/255.0,170/255.0,125/255.0,1]))(plane)\n",
    "\tdesk=STRUCT([desk,T(3)(0.9),plane])\n",
    "\tchair = create_chair()\n",
    "\tchair = S([1,2,3])([1.3,1.3,1.3])(chair)\n",
    "\tchair = R([1,2])(PI)(chair)\n",
    "\tdesk=STRUCT([desk,T([1,2])([.8,0.65]),chair])\n",
    "\n",
    "\treturn desk\n",
    "\n",
    "def create_guardrobe(dx,dy,dz):\n",
    "\n",
    "\tlateral=CUBOID([.8,.01,1.6])\n",
    "\tback=CUBOID([.01,1.2,1.6])\n",
    "\tlaterals=STRUCT([lateral,T(2)(.6),(lateral)])\n",
    "\tlaterals=STRUCT([laterals,T(2)(1.2),(lateral)])\n",
    "\tlowPlane=CUBOID([0.8,1.2,.01])\n",
    "\tguardrobe=STRUCT([laterals,back])\n",
    "\tguardrobe=STRUCT([guardrobe,lowPlane])\n",
    "\tguardrobe=STRUCT([guardrobe,T(3)(1.6),lowPlane])\n",
    "\tguardrobe=STRUCT([guardrobe,T(3)(0.5),lowPlane])\n",
    "\tguardrobe=STRUCT([guardrobe,T(3)(1.1),lowPlane])\n",
    "\tguardrobe=COLOR(Color4f([102/255.0,51/255.0,0/255.0,1]))(guardrobe)\n",
    "\t\t\n",
    "\treturn guardrobe\n",
    "\n",
    "\n",
    "\t\n",
    "\n",
    "if __name__=='__main__':\n",
    "\t#Insert the dimension of your room. Please use only appropriate dimensions for a school room in meters.\n",
    "\tggpl_create_furniture(10,8,3)"
   ]
  },
  {
   "cell_type": "code",
   "execution_count": null,
   "metadata": {
    "collapsed": true
   },
   "outputs": [],
   "source": []
  }
 ],
 "metadata": {
  "kernelspec": {
   "display_name": "Python 2",
   "language": "python",
   "name": "python2"
  },
  "language_info": {
   "codemirror_mode": {
    "name": "ipython",
    "version": 2
   },
   "file_extension": ".py",
   "mimetype": "text/x-python",
   "name": "python",
   "nbconvert_exporter": "python",
   "pygments_lexer": "ipython2",
   "version": "2.7.12"
  }
 },
 "nbformat": 4,
 "nbformat_minor": 1
}
