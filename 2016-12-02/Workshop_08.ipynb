{
 "cells": [
  {
   "cell_type": "markdown",
   "metadata": {},
   "source": [
    "# House model\n",
    "\n",
    "This workshop is focused on building the model of a house. \n",
    "The creation starts with the svg model, built thanks to **Inkscape**, using the following 2D model;\n",
    "\n",
    "<img src=\"casa-piantina.png\">\n",
    "\n",
    "Then, using the tool **svg2lines**, the *svg* models created are converted in *lines* files. \n",
    "A line file contains information about vertices and cells; follows the file *external.lines* for example\n",
    "\n",
    "    94.117501,139.18428,654.57885,135.14367\n",
    "    654.57885,135.14367,650.53824,979.6312\n",
    "    650.53824,979.6312,92.934034,980.12141\n",
    "    94.117501,139.18428,92.934034,980.\n",
    "    \n",
    "    \n",
    "Using these files and using an adeguated scaling, It is obtained the following model.\n",
    "\n",
    "<img src=\"model1.png\">\n",
    "\n",
    "Once the walls are created, they need to be modified appropriately to put doors and windows in the right place. For this purpose the file *doors.lines* and *windows.lines* are used. The holes in walls are obtained using the *DIFFERENCE* function between walls and doors/windows. Follows the output of applying the difference to previous model.\n",
    "\n",
    "<img src=\"hole-model1.png\">\n",
    "\n",
    "Lastly, two textures are applyed, just for fancy. The final result is\n",
    "\n",
    "<img src=\"final1.png\">"
   ]
  },
  {
   "cell_type": "markdown",
   "metadata": {},
   "source": [
    "# Code"
   ]
  },
  {
   "cell_type": "code",
   "execution_count": null,
   "metadata": {
    "collapsed": true
   },
   "outputs": [],
   "source": []
  }
 ],
 "metadata": {
  "kernelspec": {
   "display_name": "Python 2",
   "language": "python",
   "name": "python2"
  },
  "language_info": {
   "codemirror_mode": {
    "name": "ipython",
    "version": 2
   },
   "file_extension": ".py",
   "mimetype": "text/x-python",
   "name": "python",
   "nbconvert_exporter": "python",
   "pygments_lexer": "ipython2",
   "version": "2.7.12"
  }
 },
 "nbformat": 4,
 "nbformat_minor": 1
}
